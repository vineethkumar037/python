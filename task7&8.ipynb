{
 "cells": [
  {
   "cell_type": "code",
   "execution_count": 4,
   "metadata": {},
   "outputs": [
    {
     "data": {
      "text/plain": [
       "{10, 20}"
      ]
     },
     "execution_count": 4,
     "metadata": {},
     "output_type": "execute_result"
    }
   ],
   "source": [
    "#difference() returns a set that is the difference between two sets.\n",
    "set1 = {10, 20, 30, 40, 80}\n",
    "set2 = {100, 30, 80, 40, 60}\n",
    "set3 = setA - setB\n",
    "set3     #is equal to the elements present in 1 but not in 2"
   ]
  },
  {
   "cell_type": "code",
   "execution_count": 18,
   "metadata": {},
   "outputs": [
    {
     "name": "stdout",
     "output_type": "stream",
     "text": [
      "{'p', 'e', 'o', 'r', 'w'}\n"
     ]
    }
   ],
   "source": [
    "#The symmetric difference of two sets is the set of elements which are in either of the sets but not in both of them.\n",
    "set4 = {'p', 'a', 'w', 'a', 'n'}\n",
    "set5 = {'r', 'a', 'o', 'n', 'e'}\n",
    "print(set4.symmetric_difference(set5))\n",
    " "
   ]
  },
  {
   "cell_type": "code",
   "execution_count": null,
   "metadata": {},
   "outputs": [],
   "source": []
  },
  {
   "cell_type": "code",
   "execution_count": null,
   "metadata": {},
   "outputs": [],
   "source": []
  }
 ],
 "metadata": {
  "kernelspec": {
   "display_name": "Python 3",
   "language": "python",
   "name": "python3"
  },
  "language_info": {
   "codemirror_mode": {
    "name": "ipython",
    "version": 3
   },
   "file_extension": ".py",
   "mimetype": "text/x-python",
   "name": "python",
   "nbconvert_exporter": "python",
   "pygments_lexer": "ipython3",
   "version": "3.8.3"
  }
 },
 "nbformat": 4,
 "nbformat_minor": 4
}
