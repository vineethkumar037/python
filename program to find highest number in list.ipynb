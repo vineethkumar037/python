{
 "cells": [
  {
   "cell_type": "code",
   "execution_count": 1,
   "metadata": {},
   "outputs": [
    {
     "name": "stdout",
     "output_type": "stream",
     "text": [
      "start of the program\n",
      "Enter number of elements : 5\n",
      "3\n",
      "6\n",
      "9\n",
      "11\n",
      "75\n",
      "[3, 6, 9, 11, 75]\n",
      "Highest number is: 75\n",
      "End of the program\n"
     ]
    }
   ],
   "source": [
    "print(\"start of the program\")\n",
    "try:\n",
    "    list = []  \n",
    "    n = int(input(\"Enter number of elements : \"))  \n",
    "    for i in range(0, n): \n",
    "        j = int(input()) \n",
    "  \n",
    "        list.append(j) \n",
    "      \n",
    "    print(list) \n",
    "    print(\"Highest number is:\",max(list))\n",
    "except:\n",
    "       print(\"Enter an integer/incorrect value\")\n",
    "finally:\n",
    "        print(\"End of the program\")"
   ]
  },
  {
   "cell_type": "code",
   "execution_count": null,
   "metadata": {},
   "outputs": [],
   "source": []
  }
 ],
 "metadata": {
  "kernelspec": {
   "display_name": "Python 3",
   "language": "python",
   "name": "python3"
  },
  "language_info": {
   "codemirror_mode": {
    "name": "ipython",
    "version": 3
   },
   "file_extension": ".py",
   "mimetype": "text/x-python",
   "name": "python",
   "nbconvert_exporter": "python",
   "pygments_lexer": "ipython3",
   "version": "3.8.3"
  }
 },
 "nbformat": 4,
 "nbformat_minor": 4
}
