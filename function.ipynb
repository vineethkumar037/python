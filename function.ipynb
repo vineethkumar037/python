{
 "cells": [
  {
   "cell_type": "code",
   "execution_count": 3,
   "metadata": {},
   "outputs": [
    {
     "name": "stdout",
     "output_type": "stream",
     "text": [
      "enter a number 1 3\n",
      "enter a number 2 1\n",
      "Enter a key to do a operation 1.additon 2.substraction 3.multiplication 4.division 4\n",
      "divison of two number  is 3.0\n"
     ]
    }
   ],
   "source": [
    "#Ask 2 numbers from users and store it in num1 and num2\n",
    "#Ask user to press 1 for addition,2 for subtraction,3 for multiplication and 4 for division\n",
    "#create 4 seperate functions for each operation (i.e. addition,subtraction,multiplication and division)\n",
    "#based on number given by user,call that perticular function and print the output \n",
    "def add(x,y):\n",
    "    z=x+y\n",
    "    print(\"sum of two number is\" , z)\n",
    "def sub(x,y):\n",
    "    z=x-y\n",
    "    print(\"substraction of two number is\" , z)\n",
    "def mul(x,y):\n",
    "    z=x*y\n",
    "    print(\"multiplication of two number is\" , z)\n",
    "def div(x,y):\n",
    "    z=x/y\n",
    "    print(\"divison of two number  is\" , z)\n",
    "\n",
    "num1=int(input(\"enter a number 1 \"))\n",
    "num2=int(input(\"enter a number 2 \"))\n",
    "key=int(input(\"Enter a key to do a operation 1.additon 2.substraction 3.multiplication 4.division \"))\n",
    "\n",
    "if(key==1):\n",
    "    add(num1,num2)\n",
    "\n",
    "elif(key==2):\n",
    "    sub(num1,num2)\n",
    "    \n",
    "elif(key==3):\n",
    "    mul(num1,num2)\n",
    "elif(key==4):\n",
    "    div(num1,num2)"
   ]
  },
  {
   "cell_type": "code",
   "execution_count": null,
   "metadata": {},
   "outputs": [],
   "source": []
  },
  {
   "cell_type": "code",
   "execution_count": null,
   "metadata": {},
   "outputs": [],
   "source": []
  }
 ],
 "metadata": {
  "kernelspec": {
   "display_name": "Python 3",
   "language": "python",
   "name": "python3"
  },
  "language_info": {
   "codemirror_mode": {
    "name": "ipython",
    "version": 3
   },
   "file_extension": ".py",
   "mimetype": "text/x-python",
   "name": "python",
   "nbconvert_exporter": "python",
   "pygments_lexer": "ipython3",
   "version": "3.8.3"
  }
 },
 "nbformat": 4,
 "nbformat_minor": 4
}
