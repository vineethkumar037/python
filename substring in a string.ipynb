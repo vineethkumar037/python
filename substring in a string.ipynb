{
 "cells": [
  {
   "cell_type": "code",
   "execution_count": 1,
   "metadata": {},
   "outputs": [
    {
     "name": "stdout",
     "output_type": "stream",
     "text": [
      "Enter a string\n",
      "im is a fff\n",
      "enter string to find in first string\n",
      "is\n",
      "yes string found\n",
      "string found at index\n",
      "3\n"
     ]
    }
   ],
   "source": [
    "#to find a substring in given string\n",
    "print(\"Enter a string\")\n",
    "x=input()\n",
    "print(\"enter string to find in first string\")\n",
    "y=input()\n",
    "if(x.find(y)==-1):\n",
    "    print('no')\n",
    "else:\n",
    "                print('yes string found')\n",
    "\n",
    "print('string found at index')\n",
    "print(x.find(y))"
   ]
  },
  {
   "cell_type": "code",
   "execution_count": null,
   "metadata": {},
   "outputs": [],
   "source": []
  }
 ],
 "metadata": {
  "kernelspec": {
   "display_name": "Python 3",
   "language": "python",
   "name": "python3"
  },
  "language_info": {
   "codemirror_mode": {
    "name": "ipython",
    "version": 3
   },
   "file_extension": ".py",
   "mimetype": "text/x-python",
   "name": "python",
   "nbconvert_exporter": "python",
   "pygments_lexer": "ipython3",
   "version": "3.8.3"
  }
 },
 "nbformat": 4,
 "nbformat_minor": 4
}
