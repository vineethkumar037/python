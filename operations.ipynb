{
 "cells": [
  {
   "cell_type": "code",
   "execution_count": 1,
   "metadata": {},
   "outputs": [
    {
     "name": "stdout",
     "output_type": "stream",
     "text": [
      "enter a num1 3\n",
      "enter a num2 4\n",
      "Enter number to do operation 1.additon 2.substraction 3.multiplications 3\n",
      "multiplication of two number is  \n",
      "12\n"
     ]
    }
   ],
   "source": [
    "num1=int(input(\"enter a num1 \"))\n",
    "num2=int(input(\"enter a num2 \"))\n",
    "k=int(input(\"Enter number to do operation 1.additon 2.substraction 3.multiplications \"))\n",
    "if(k==1):\n",
    "    print(\"sum of two number is\",\" \")\n",
    "    print(num1 + num2)\n",
    "elif(k==2):\n",
    "    sub=num1-num2\n",
    "    print(\"substraction of two number is\",\" \")\n",
    "    print(sub)\n",
    "elif(k==3):\n",
    "    mul=num1*num2\n",
    "    print(\"multiplication of two number is\",\" \")\n",
    "    print(mul)\n",
    "    "
   ]
  },
  {
   "cell_type": "code",
   "execution_count": null,
   "metadata": {},
   "outputs": [],
   "source": []
  }
 ],
 "metadata": {
  "kernelspec": {
   "display_name": "Python 3",
   "language": "python",
   "name": "python3"
  },
  "language_info": {
   "codemirror_mode": {
    "name": "ipython",
    "version": 3
   },
   "file_extension": ".py",
   "mimetype": "text/x-python",
   "name": "python",
   "nbconvert_exporter": "python",
   "pygments_lexer": "ipython3",
   "version": "3.8.3"
  }
 },
 "nbformat": 4,
 "nbformat_minor": 4
}
